{
 "cells": [
  {
   "cell_type": "code",
   "execution_count": 2,
   "id": "5f36a626",
   "metadata": {},
   "outputs": [
    {
     "name": "stdout",
     "output_type": "stream",
     "text": [
      "Alice\n",
      "David\n",
      "Carolina\n"
     ]
    }
   ],
   "source": [
    "#Name: Dildar Ali\n",
    "#Date: 21/June/2022\n",
    "\n",
    "magicians = ['alice', 'david', 'carolina'] \n",
    "for magician in magicians: \n",
    "     print(magician.title())"
   ]
  },
  {
   "cell_type": "code",
   "execution_count": 4,
   "id": "3837a44c",
   "metadata": {},
   "outputs": [
    {
     "name": "stdout",
     "output_type": "stream",
     "text": [
      "Alice, that was great trick!\n",
      "David, that was great trick!\n",
      "Carolina, that was great trick!\n"
     ]
    }
   ],
   "source": [
    "magicians = ['alice', 'david', 'carolina'] \n",
    "for magician in magicians: \n",
    "     print(magician.title()+\", that was great trick!\")"
   ]
  },
  {
   "cell_type": "code",
   "execution_count": 8,
   "id": "8f0af5bd",
   "metadata": {},
   "outputs": [
    {
     "name": "stdout",
     "output_type": "stream",
     "text": [
      "Alice, that was great trick!\n",
      "I can't wait to see your next trick Alice\n",
      "\n",
      "David, that was great trick!\n",
      "I can't wait to see your next trick David\n",
      "\n",
      "Carolina, that was great trick!\n",
      "I can't wait to see your next trick Carolina\n",
      "\n"
     ]
    }
   ],
   "source": [
    "magicians = ['alice', 'david', 'carolina'] \n",
    "for magician in magicians:\n",
    "    \n",
    "    print(magician.title()+\", that was great trick!\")\n",
    "    print(\"I can't wait to see your next trick \"+magician.title()+\"\\n\")   "
   ]
  },
  {
   "cell_type": "code",
   "execution_count": 9,
   "id": "00fc23d0",
   "metadata": {},
   "outputs": [
    {
     "name": "stdout",
     "output_type": "stream",
     "text": [
      "Alice, that was great trick!\n",
      "I can't wait to see your next trick Alice\n",
      "\n",
      "David, that was great trick!\n",
      "I can't wait to see your next trick David\n",
      "\n",
      "Carolina, that was great trick!\n",
      "I can't wait to see your next trick Carolina\n",
      "\n",
      "Thankyou everyone, that was great magic show!\n"
     ]
    }
   ],
   "source": [
    "magicians = ['alice', 'david', 'carolina'] \n",
    "for magician in magicians:\n",
    "    \n",
    "    print(magician.title()+\", that was great trick!\")\n",
    "    print(\"I can't wait to see your next trick \"+magician.title()+\"\\n\") \n",
    "print(\"Thankyou everyone, that was great magic show!\")    "
   ]
  },
  {
   "cell_type": "code",
   "execution_count": 14,
   "id": "738d3bf3",
   "metadata": {},
   "outputs": [
    {
     "name": "stdout",
     "output_type": "stream",
     "text": [
      "I like Neapolitan  pizza!\n",
      "I like Chicago pizza!\n",
      "I like Greek pizza!\n",
      "\n",
      "I really love pizza!\n"
     ]
    }
   ],
   "source": [
    "#TASK\n",
    "#4.1 Pizzas: Think of at least three kinds of your favorite pizza. Store these pizza names in a list, and then use a for loop to print the name of each pizza.\n",
    "#• Modify your for loop to print a sentence using the name of the pizza instead of printing just the name of the pizza. For each pizza you should have one line of output containing a simple statement like I like pepperoni pizza.\n",
    "#• Add a line at the end of your program, outside the for loop, that states how much you like pizza. The output should consist of three or more lines about the kinds of pizza you like and then an additional sentence, such as I really love pizza\n",
    "\n",
    "pizzas=[\"Neapolitan \",\"Chicago\",\"Greek\"]\n",
    "for pizza in pizzas:\n",
    "    print(\"I like \"+pizza.title()+\" pizza!\")\n",
    "print(\"\\nI really love pizza!\")    "
   ]
  },
  {
   "cell_type": "code",
   "execution_count": 16,
   "id": "2d3cbac4",
   "metadata": {},
   "outputs": [
    {
     "name": "stdout",
     "output_type": "stream",
     "text": [
      "A Dog would be a great pet.\n",
      "A Cat would be a great pet.\n",
      "A Bear would be a great pet.\n",
      "\n",
      "Any of these animals would make a great pet!\n"
     ]
    }
   ],
   "source": [
    "#4.2 Animals: Think of at least three different animals that have a common characteristic. Store the names of these animals in a list, and then use a for loop to print out the name of each animal.\n",
    "#• Modify your program to print a statement about each animal, such as A dog would make a great pet.\n",
    "#• Add a line at the end of your program stating what these animals have in common. You could print a sentence such as Any of these animals would make a great pet!\n",
    "\n",
    "animanls=[\"Dog\",\"cat\",\"bear\"]\n",
    "for animal in animanls:\n",
    "    print(\"A \"+animal.title()+\" would be a great pet.\")\n",
    "print(\"\\nAny of these animals would make a great pet!\")    "
   ]
  },
  {
   "cell_type": "code",
   "execution_count": 19,
   "id": "57137db7",
   "metadata": {},
   "outputs": [
    {
     "name": "stdout",
     "output_type": "stream",
     "text": [
      "1 Dildar\n",
      "2 Dildar\n",
      "3 Dildar\n",
      "4 Dildar\n"
     ]
    }
   ],
   "source": [
    "for a in range(1,5):\n",
    "    print(a,\"Dildar\")"
   ]
  },
  {
   "cell_type": "code",
   "execution_count": 20,
   "id": "30337fae",
   "metadata": {},
   "outputs": [
    {
     "name": "stdout",
     "output_type": "stream",
     "text": [
      "1 Dildar\n",
      "2 Dildar\n",
      "3 Dildar\n",
      "4 Dildar\n",
      "5 Dildar\n"
     ]
    }
   ],
   "source": [
    "for a in range(1,6):\n",
    "    print(a,\"Dildar\")"
   ]
  },
  {
   "cell_type": "code",
   "execution_count": 27,
   "id": "0a5439c9",
   "metadata": {},
   "outputs": [
    {
     "name": "stdout",
     "output_type": "stream",
     "text": [
      "[1, 2, 3, 4, 5]\n"
     ]
    }
   ],
   "source": [
    "a=list(i for i in range(1,6))\n",
    "print(a)"
   ]
  },
  {
   "cell_type": "code",
   "execution_count": 28,
   "id": "c82d7d30",
   "metadata": {},
   "outputs": [
    {
     "name": "stdout",
     "output_type": "stream",
     "text": [
      "[1, 2, 3, 4, 5]\n"
     ]
    }
   ],
   "source": [
    "a=list(range(1,6))\n",
    "print(a)"
   ]
  },
  {
   "cell_type": "code",
   "execution_count": 34,
   "id": "a8189ddc",
   "metadata": {},
   "outputs": [
    {
     "name": "stdout",
     "output_type": "stream",
     "text": [
      "Even NUmbers:  [2, 4, 6, 8, 10, 12, 14, 16, 18, 20]\n"
     ]
    }
   ],
   "source": [
    "even_numbers=list(range(2,21,2))\n",
    "print(\"Even NUmbers: \",even_numbers)"
   ]
  },
  {
   "cell_type": "code",
   "execution_count": 37,
   "id": "cd33d0bf",
   "metadata": {},
   "outputs": [
    {
     "name": "stdout",
     "output_type": "stream",
     "text": [
      "Even NUmbers:  [1, 3, 5, 7, 9, 11, 13, 15, 17, 19]\n"
     ]
    }
   ],
   "source": [
    "odd_numbers=list(range(1,21,2))\n",
    "print(\"Even NUmbers: \",odd_numbers)"
   ]
  },
  {
   "cell_type": "code",
   "execution_count": 40,
   "id": "939c925a",
   "metadata": {},
   "outputs": [
    {
     "name": "stdout",
     "output_type": "stream",
     "text": [
      "[1, 4, 9, 16, 25, 36, 49, 64, 81, 100]\n"
     ]
    }
   ],
   "source": [
    "squares=[]\n",
    "for a in range(1,11):\n",
    "    square=a**2\n",
    "    squares.append(square)\n",
    "print(squares)    "
   ]
  },
  {
   "cell_type": "code",
   "execution_count": 44,
   "id": "0f18abaf",
   "metadata": {},
   "outputs": [
    {
     "data": {
      "text/plain": [
       "9"
      ]
     },
     "execution_count": 44,
     "metadata": {},
     "output_type": "execute_result"
    }
   ],
   "source": [
    "digits=[1,2,3,4,5,6,7,8,9]\n",
    "max(digits)\n"
   ]
  },
  {
   "cell_type": "code",
   "execution_count": 45,
   "id": "b23b5944",
   "metadata": {},
   "outputs": [
    {
     "data": {
      "text/plain": [
       "1"
      ]
     },
     "execution_count": 45,
     "metadata": {},
     "output_type": "execute_result"
    }
   ],
   "source": [
    "min(digits)"
   ]
  },
  {
   "cell_type": "code",
   "execution_count": 46,
   "id": "ac0bfbd1",
   "metadata": {},
   "outputs": [
    {
     "data": {
      "text/plain": [
       "45"
      ]
     },
     "execution_count": 46,
     "metadata": {},
     "output_type": "execute_result"
    }
   ],
   "source": [
    "sum(digits)"
   ]
  },
  {
   "cell_type": "code",
   "execution_count": 47,
   "id": "0b424b51",
   "metadata": {},
   "outputs": [
    {
     "name": "stdout",
     "output_type": "stream",
     "text": [
      "[1, 4, 9, 16, 25, 36, 49, 64, 81, 100]\n"
     ]
    }
   ],
   "source": [
    "squares=[a**2 for a in range(1,11)]\n",
    "print(squares)"
   ]
  },
  {
   "cell_type": "code",
   "execution_count": 48,
   "id": "e8c86091",
   "metadata": {},
   "outputs": [
    {
     "name": "stdout",
     "output_type": "stream",
     "text": [
      "[1, 8, 27, 64, 125, 216, 343, 512, 729, 1000]\n"
     ]
    }
   ],
   "source": [
    "cubes=[a**3 for a in range(1,11)]\n",
    "print(cubes)"
   ]
  },
  {
   "cell_type": "code",
   "execution_count": 50,
   "id": "983fa651",
   "metadata": {},
   "outputs": [
    {
     "name": "stdout",
     "output_type": "stream",
     "text": [
      "1 2 3 4 5 6 7 8 9 10 11 12 13 14 15 16 17 18 19 20 "
     ]
    }
   ],
   "source": [
    "#TASK\n",
    "#4-3\n",
    "#Counting to Twenty: Use a for loop to print the numbers from 1 to 20, inclusive.\n",
    "\n",
    "for i in range(1,21):\n",
    "    print(i,end=\" \")"
   ]
  },
  {
   "cell_type": "code",
   "execution_count": 52,
   "id": "ed80e758",
   "metadata": {},
   "outputs": [
    {
     "name": "stderr",
     "output_type": "stream",
     "text": [
      "IOPub data rate exceeded.\n",
      "The notebook server will temporarily stop sending output\n",
      "to the client in order to avoid crashing it.\n",
      "To change this limit, set the config variable\n",
      "`--NotebookApp.iopub_data_rate_limit`.\n",
      "\n",
      "Current values:\n",
      "NotebookApp.iopub_data_rate_limit=1000000.0 (bytes/sec)\n",
      "NotebookApp.rate_limit_window=3.0 (secs)\n",
      "\n"
     ]
    }
   ],
   "source": [
    "#4.4\n",
    "#One Million: Make a list of the numbers from one to one million, and then use a for loop to print the numbers. (If the output is taking too long, stop it by pressing ctrl-C or by closing the output window.)\n",
    "a=[i for i in range(1,1000001)]\n",
    "print(a)"
   ]
  },
  {
   "cell_type": "code",
   "execution_count": 54,
   "id": "653803e8",
   "metadata": {},
   "outputs": [
    {
     "name": "stdout",
     "output_type": "stream",
     "text": [
      "[1, 2, 3, 4, 5, 6, 7, 8, 9, 10, 11, 12, 13, 14, 15, 16, 17, 18, 19, 20, 21, 22, 23, 24, 25, 26, 27, 28, 29, 30, 31, 32, 33, 34, 35, 36, 37, 38, 39, 40, 41, 42, 43, 44, 45, 46, 47, 48, 49, 50, 51, 52, 53, 54, 55, 56, 57, 58, 59, 60, 61, 62, 63, 64, 65, 66, 67, 68, 69, 70, 71, 72, 73, 74, 75, 76, 77, 78, 79, 80, 81, 82, 83, 84, 85, 86, 87, 88, 89, 90, 91, 92, 93, 94, 95, 96, 97, 98, 99, 100, 101, 102, 103, 104, 105, 106, 107, 108, 109, 110, 111, 112, 113, 114, 115, 116, 117, 118, 119, 120, 121, 122, 123, 124, 125, 126, 127, 128, 129, 130, 131, 132, 133, 134, 135, 136, 137, 138, 139, 140, 141, 142, 143, 144, 145, 146, 147, 148, 149, 150, 151, 152, 153, 154, 155, 156, 157, 158, 159, 160, 161, 162, 163, 164, 165, 166, 167, 168, 169, 170, 171, 172, 173, 174, 175, 176, 177, 178, 179, 180, 181, 182, 183, 184, 185, 186, 187, 188, 189, 190, 191, 192, 193, 194, 195, 196, 197, 198, 199, 200, 201, 202, 203, 204, 205, 206, 207, 208, 209, 210, 211, 212, 213, 214, 215, 216, 217, 218, 219, 220, 221, 222, 223, 224, 225, 226, 227, 228, 229, 230, 231, 232, 233, 234, 235, 236, 237, 238, 239, 240, 241, 242, 243, 244, 245, 246, 247, 248, 249, 250, 251, 252, 253, 254, 255, 256, 257, 258, 259, 260, 261, 262, 263, 264, 265, 266, 267, 268, 269, 270, 271, 272, 273, 274, 275, 276, 277, 278, 279, 280, 281, 282, 283, 284, 285, 286, 287, 288, 289, 290, 291, 292, 293, 294, 295, 296, 297, 298, 299, 300, 301, 302, 303, 304, 305, 306, 307, 308, 309, 310, 311, 312, 313, 314, 315, 316, 317, 318, 319, 320, 321, 322, 323, 324, 325, 326, 327, 328, 329, 330, 331, 332, 333, 334, 335, 336, 337, 338, 339, 340, 341, 342, 343, 344, 345, 346, 347, 348, 349, 350, 351, 352, 353, 354, 355, 356, 357, 358, 359, 360, 361, 362, 363, 364, 365, 366, 367, 368, 369, 370, 371, 372, 373, 374, 375, 376, 377, 378, 379, 380, 381, 382, 383, 384, 385, 386, 387, 388, 389, 390, 391, 392, 393, 394, 395, 396, 397, 398, 399, 400, 401, 402, 403, 404, 405, 406, 407, 408, 409, 410, 411, 412, 413, 414, 415, 416, 417, 418, 419, 420, 421, 422, 423, 424, 425, 426, 427, 428, 429, 430, 431, 432, 433, 434, 435, 436, 437, 438, 439, 440, 441, 442, 443, 444, 445, 446, 447, 448, 449, 450, 451, 452, 453, 454, 455, 456, 457, 458, 459, 460, 461, 462, 463, 464, 465, 466, 467, 468, 469, 470, 471, 472, 473, 474, 475, 476, 477, 478, 479, 480, 481, 482, 483, 484, 485, 486, 487, 488, 489, 490, 491, 492, 493, 494, 495, 496, 497, 498, 499, 500, 501, 502, 503, 504, 505, 506, 507, 508, 509, 510, 511, 512, 513, 514, 515, 516, 517, 518, 519, 520, 521, 522, 523, 524, 525, 526, 527, 528, 529, 530, 531, 532, 533, 534, 535, 536, 537, 538, 539, 540, 541, 542, 543, 544, 545, 546, 547, 548, 549, 550, 551, 552, 553, 554, 555, 556, 557, 558, 559, 560, 561, 562, 563, 564, 565, 566, 567, 568, 569, 570, 571, 572, 573, 574, 575, 576, 577, 578, 579, 580, 581, 582, 583, 584, 585, 586, 587, 588, 589, 590, 591, 592, 593, 594, 595, 596, 597, 598, 599, 600, 601, 602, 603, 604, 605, 606, 607, 608, 609, 610, 611, 612, 613, 614, 615, 616, 617, 618, 619, 620, 621, 622, 623, 624, 625, 626, 627, 628, 629, 630, 631, 632, 633, 634, 635, 636, 637, 638, 639, 640, 641, 642, 643, 644, 645, 646, 647, 648, 649, 650, 651, 652, 653, 654, 655, 656, 657, 658, 659, 660, 661, 662, 663, 664, 665, 666, 667, 668, 669, 670, 671, 672, 673, 674, 675, 676, 677, 678, 679, 680, 681, 682, 683, 684, 685, 686, 687, 688, 689, 690, 691, 692, 693, 694, 695, 696, 697, 698, 699, 700, 701, 702, 703, 704, 705, 706, 707, 708, 709, 710, 711, 712, 713, 714, 715, 716, 717, 718, 719, 720, 721, 722, 723, 724, 725, 726, 727, 728, 729, 730, 731, 732, 733, 734, 735, 736, 737, 738, 739, 740, 741, 742, 743, 744, 745, 746, 747, 748, 749, 750, 751, 752, 753, 754, 755, 756, 757, 758, 759, 760, 761, 762, 763, 764, 765, 766, 767, 768, 769, 770, 771, 772, 773, 774, 775, 776, 777, 778, 779, 780, 781, 782, 783, 784, 785, 786, 787, 788, 789, 790, 791, 792, 793, 794, 795, 796, 797, 798, 799, 800, 801, 802, 803, 804, 805, 806, 807, 808, 809, 810, 811, 812, 813, 814, 815, 816, 817, 818, 819, 820, 821, 822, 823, 824, 825, 826, 827, 828, 829, 830, 831, 832, 833, 834, 835, 836, 837, 838, 839, 840, 841, 842, 843, 844, 845, 846, 847, 848, 849, 850, 851, 852, 853, 854, 855, 856, 857, 858, 859, 860, 861, 862, 863, 864, 865, 866, 867, 868, 869, 870, 871, 872, 873, 874, 875, 876, 877, 878, 879, 880, 881, 882, 883, 884, 885, 886, 887, 888, 889, 890, 891, 892, 893, 894, 895, 896, 897, 898, 899, 900, 901, 902, 903, 904, 905, 906, 907, 908, 909, 910, 911, 912, 913, 914, 915, 916, 917, 918, 919, 920, 921, 922, 923, 924, 925, 926, 927, 928, 929, 930, 931, 932, 933, 934, 935, 936, 937, 938, 939, 940, 941, 942, 943, 944, 945, 946, 947, 948, 949, 950, 951, 952, 953, 954, 955, 956, 957, 958, 959, 960, 961, 962, 963, 964, 965, 966, 967, 968, 969, 970, 971, 972, 973, 974, 975, 976, 977, 978, 979, 980, 981, 982, 983, 984, 985, 986, 987, 988, 989, 990, 991, 992, 993, 994, 995, 996, 997, 998, 999, 1000]\n"
     ]
    }
   ],
   "source": [
    "a=[i for i in range(1,1001)]\n",
    "print(a)"
   ]
  },
  {
   "cell_type": "code",
   "execution_count": 59,
   "id": "0950962c",
   "metadata": {},
   "outputs": [
    {
     "data": {
      "text/plain": [
       "1"
      ]
     },
     "execution_count": 59,
     "metadata": {},
     "output_type": "execute_result"
    }
   ],
   "source": [
    "4.5\n",
    "#Summing a Million: Make a list of the numbers from one to one million, and then use min() and max() to make sure your list actually starts at one and ends at one million. Also, use the sum() function to see how quickly Python can add a million numbers.\n",
    "a=range(1,1000001)\n",
    "min(a)"
   ]
  },
  {
   "cell_type": "code",
   "execution_count": 56,
   "id": "c955003a",
   "metadata": {},
   "outputs": [
    {
     "data": {
      "text/plain": [
       "1000000"
      ]
     },
     "execution_count": 56,
     "metadata": {},
     "output_type": "execute_result"
    }
   ],
   "source": [
    "max(a)"
   ]
  },
  {
   "cell_type": "code",
   "execution_count": 57,
   "id": "0cb41c61",
   "metadata": {},
   "outputs": [
    {
     "data": {
      "text/plain": [
       "500000500000"
      ]
     },
     "execution_count": 57,
     "metadata": {},
     "output_type": "execute_result"
    }
   ],
   "source": [
    "sum(a)"
   ]
  },
  {
   "cell_type": "code",
   "execution_count": 61,
   "id": "c8662461",
   "metadata": {},
   "outputs": [
    {
     "name": "stdout",
     "output_type": "stream",
     "text": [
      "[1, 3, 5, 7, 9, 11, 13, 15, 17, 19]\n"
     ]
    }
   ],
   "source": [
    "#4.6\n",
    "#Odd Numbers: Use the third argument of the range() function to make a list of the odd numbers from 1 to 20. Use a for loop to print each number.\n",
    "odd_number=[ ]\n",
    "for i in range(1,21,2):\n",
    "    odd_number.append(i)\n",
    "print(odd_number)"
   ]
  },
  {
   "cell_type": "code",
   "execution_count": 67,
   "id": "bd2eb5f6",
   "metadata": {},
   "outputs": [
    {
     "name": "stdout",
     "output_type": "stream",
     "text": [
      "[3, 6, 9, 12, 15, 18, 21, 24, 27, 30]\n"
     ]
    }
   ],
   "source": [
    "#4.7\n",
    "#Threes: Make a list of the multiples of 3 from 3 to 30. Use a for loop to print the numbers in your list.\n",
    "\n",
    "threes=[i*3 for i in range(1,11)]\n",
    "print(threes)\n",
    "     "
   ]
  },
  {
   "cell_type": "code",
   "execution_count": 64,
   "id": "4f73669e",
   "metadata": {},
   "outputs": [
    {
     "name": "stdout",
     "output_type": "stream",
     "text": [
      "[1, 8, 27, 64, 125, 216, 343, 512, 729, 1000]\n"
     ]
    }
   ],
   "source": [
    "#4.8\n",
    "#Cubes: A number raised to the third power is called a cube. For example, the cube of 2 is written as 2**3 in Python. Make a list of the first 10 cubes (that is, the cube of each integer from 1 through 10), and use a for loop to print out the value of each cube.\n",
    "\n",
    "cubes=[]\n",
    "for i in range(1,11):\n",
    "    cube=i**3\n",
    "    cubes.append(cube)\n",
    "print(cubes)    "
   ]
  },
  {
   "cell_type": "code",
   "execution_count": 65,
   "id": "719a0e72",
   "metadata": {},
   "outputs": [
    {
     "name": "stdout",
     "output_type": "stream",
     "text": [
      "[1, 8, 27, 64, 125, 216, 343, 512, 729, 1000]\n"
     ]
    }
   ],
   "source": [
    "#4.9\n",
    "#Cube Comprehension: Use a list comprehension to generate a list of the first 10 cubes\n",
    "\n",
    "cubes=[i**3 for i in range(1,11)]\n",
    "print(cubes)"
   ]
  },
  {
   "cell_type": "code",
   "execution_count": 68,
   "id": "329c92c6",
   "metadata": {},
   "outputs": [
    {
     "name": "stdout",
     "output_type": "stream",
     "text": [
      "['charles', 'martina', 'michael']\n"
     ]
    }
   ],
   "source": [
    "players = ['charles', 'martina', 'michael', 'florence', 'eli'] \n",
    "print(players[0:3])\n"
   ]
  },
  {
   "cell_type": "code",
   "execution_count": 70,
   "id": "0fb133d8",
   "metadata": {},
   "outputs": [
    {
     "name": "stdout",
     "output_type": "stream",
     "text": [
      "['martina', 'michael', 'florence', 'eli']\n"
     ]
    }
   ],
   "source": [
    "print(players[1:])"
   ]
  },
  {
   "cell_type": "code",
   "execution_count": 71,
   "id": "7d42ee84",
   "metadata": {},
   "outputs": [
    {
     "name": "stdout",
     "output_type": "stream",
     "text": [
      "['charles', 'martina', 'michael', 'florence']\n"
     ]
    }
   ],
   "source": [
    "print(players[:4])"
   ]
  },
  {
   "cell_type": "code",
   "execution_count": 72,
   "id": "4d3af3b4",
   "metadata": {},
   "outputs": [
    {
     "name": "stdout",
     "output_type": "stream",
     "text": [
      "['michael', 'florence', 'eli']\n"
     ]
    }
   ],
   "source": [
    "print(players[-3:])"
   ]
  },
  {
   "cell_type": "code",
   "execution_count": 74,
   "id": "a818f5ad",
   "metadata": {},
   "outputs": [
    {
     "name": "stdout",
     "output_type": "stream",
     "text": [
      "Here are the first three players on my team:\n",
      "Asad\n",
      "Ali\n",
      "Bilal\n"
     ]
    }
   ],
   "source": [
    "players = ['Asad', 'Ali', 'Bilal', 'Dildar', 'Hasan'] \n",
    "print(\"Here are the first three players on my team:\")\n",
    "for player in players[:3]:\n",
    "    print(player.title())"
   ]
  },
  {
   "cell_type": "code",
   "execution_count": 89,
   "id": "a1d4d37d",
   "metadata": {},
   "outputs": [
    {
     "name": "stdout",
     "output_type": "stream",
     "text": [
      "My favorite foods are:\n",
      "['pizza', 'falafel', 'carrot cake']\n",
      "\n",
      "My friend's favorite foods are:\n",
      "['pizza', 'falafel', 'carrot cake']\n"
     ]
    }
   ],
   "source": [
    "my_foods = ['pizza', 'falafel', 'carrot cake']\n",
    "friend_foods = my_foods[:]\n",
    "\n",
    "print(\"My favorite foods are:\")\n",
    "print(my_foods)\n",
    "\n",
    "print(\"\\nMy friend's favorite foods are:\")\n",
    "print(friend_foods)"
   ]
  },
  {
   "cell_type": "code",
   "execution_count": 90,
   "id": "4ff5e4d7",
   "metadata": {},
   "outputs": [],
   "source": [
    "my_foods.append('cannoli')\n"
   ]
  },
  {
   "cell_type": "code",
   "execution_count": 91,
   "id": "7cea2dde",
   "metadata": {},
   "outputs": [],
   "source": [
    "friend_foods.append('ice cream')"
   ]
  },
  {
   "cell_type": "code",
   "execution_count": 94,
   "id": "910890d7",
   "metadata": {},
   "outputs": [
    {
     "name": "stdout",
     "output_type": "stream",
     "text": [
      "My favourite foods are:  ['pizza', 'falafel', 'carrot cake', 'cannoli']\n",
      "My freind's favourite foods are:  ['pizza', 'falafel', 'carrot cake', 'ice cream']\n"
     ]
    }
   ],
   "source": [
    "print(\"My favourite foods are: \",my_foods)\n",
    "print(\"My freind's favourite foods are: \",friend_foods)"
   ]
  },
  {
   "cell_type": "code",
   "execution_count": 1,
   "id": "22fbd0f1",
   "metadata": {},
   "outputs": [
    {
     "name": "stdout",
     "output_type": "stream",
     "text": [
      "First three players are:  ['charles', 'martina', 'michael']\n"
     ]
    }
   ],
   "source": [
    "#TASK\n",
    "#4.10\n",
    "#Slices: Using one of the programs you wrote in this chapter, add several lines to the end of the program that do the following:\n",
    "#• Print the message, The first three items in the list are:. Then use a slice to print the first three items from that program’s list.\n",
    "#• Print the message, Three items from the middle of the list are:. Use a slice to print three items from the middle of the list.\n",
    "#• Print the message, The last three items in the list are:. Use a slice to print the last three items in the list.\n",
    "\n",
    "players = ['charles', 'martina', 'michael', 'florence', 'eli','zahid','shadab','ali','asad']\n",
    "print(\"First three players are: \",players[:3])"
   ]
  },
  {
   "cell_type": "code",
   "execution_count": 3,
   "id": "69fd5798",
   "metadata": {},
   "outputs": [
    {
     "name": "stdout",
     "output_type": "stream",
     "text": [
      "Middle players are:  ['florence', 'eli', 'zahid']\n"
     ]
    }
   ],
   "source": [
    "print(\"Middle players are: \",players[3:6])"
   ]
  },
  {
   "cell_type": "code",
   "execution_count": 4,
   "id": "7183ef52",
   "metadata": {},
   "outputs": [
    {
     "name": "stdout",
     "output_type": "stream",
     "text": [
      "Last three players are:  ['shadab', 'ali', 'asad']\n"
     ]
    }
   ],
   "source": [
    "print(\"Last three players are: \",players[6:10])"
   ]
  },
  {
   "cell_type": "code",
   "execution_count": 14,
   "id": "94eac753",
   "metadata": {},
   "outputs": [
    {
     "name": "stdout",
     "output_type": "stream",
     "text": [
      "My favourite pizza's are: \n",
      "Neapolitan Pizza\n",
      "Chicago Pizza\n",
      "New York-Style Pizza\n",
      "Sicilian Pizza\n",
      "\n",
      "My friends favourite pizza's are:  \n",
      "Neapolitan Pizza\n",
      "Chicago Pizza\n",
      "New York-Style Pizza\n",
      "Sicilian Pizza\n"
     ]
    }
   ],
   "source": [
    "#4.11\n",
    "#My Pizzas, Your Pizzas: Start with your program from Exercise 4-1 (page 60). Make a copy of the list of pizzas, and call it friend_pizzas. Then, do the following:\n",
    "#• Add a new pizza to the original list.\n",
    "#• Add a different pizza to the list friend_pizzas.\n",
    "#• Prove that you have two separate lists. Print the message, My favorite pizzas are:, and then use a for loop to print the first list. Print the message, My friend’s favorite pizzas are:, and then use a for loop to print the second list. Make sure each new pizza is stored in the appropriate list.\n",
    "\n",
    "my_pizzas=[\"Neapolitan Pizza\",\"Chicago Pizza\",\"New York-Style Pizza\",\"Sicilian Pizza\"]\n",
    "friends_pizzas=my_pizzas[:]\n",
    "\n",
    "print(\"My favourite pizza's are: \")\n",
    "for pizza in my_pizzas[:]:\n",
    "    print(pizza)\n",
    "print(\"\\nMy friends favourite pizza's are:  \")\n",
    "for piza in friends_pizzas[:]:\n",
    "    print(piza)"
   ]
  },
  {
   "cell_type": "code",
   "execution_count": 15,
   "id": "66614520",
   "metadata": {},
   "outputs": [],
   "source": [
    "my_pizzas.append(\"Greek Pizza\")\n",
    "friends_pizzas.append(\"California Pizza\")"
   ]
  },
  {
   "cell_type": "code",
   "execution_count": 16,
   "id": "1906f351",
   "metadata": {},
   "outputs": [
    {
     "name": "stdout",
     "output_type": "stream",
     "text": [
      "Now my favourite pizza's are: \n",
      "Neapolitan Pizza\n",
      "Chicago Pizza\n",
      "New York-Style Pizza\n",
      "Sicilian Pizza\n",
      "Greek Pizza\n",
      "\n",
      "My friends favourite pizza's are:  \n",
      "Neapolitan Pizza\n",
      "Chicago Pizza\n",
      "New York-Style Pizza\n",
      "Sicilian Pizza\n",
      "California Pizza\n"
     ]
    }
   ],
   "source": [
    "print(\"Now my favourite pizza's are: \")\n",
    "for pizza in my_pizzas[:]:\n",
    "    print(pizza)\n",
    "print(\"\\nMy friends favourite pizza's are:  \")\n",
    "for piza in friends_pizzas[:]:\n",
    "    print(piza)"
   ]
  },
  {
   "cell_type": "code",
   "execution_count": 17,
   "id": "4122bfa7",
   "metadata": {},
   "outputs": [
    {
     "name": "stdout",
     "output_type": "stream",
     "text": [
      "200\n",
      "50\n"
     ]
    }
   ],
   "source": [
    "#TUPLES\n",
    "dimensions = (200, 50)\n",
    "print(dimensions[0])\n",
    "print(dimensions[1])"
   ]
  },
  {
   "cell_type": "code",
   "execution_count": 18,
   "id": "79acba97",
   "metadata": {},
   "outputs": [
    {
     "name": "stdout",
     "output_type": "stream",
     "text": [
      "Original dimensions:\n",
      "200\n",
      "50\n",
      "\n",
      "Modified dimensions:\n",
      "400\n",
      "100\n"
     ]
    }
   ],
   "source": [
    "dimensions = (200, 50)\n",
    "print(\"Original dimensions:\")\n",
    "for dimension in dimensions:\n",
    " print(dimension)\n",
    " \n",
    "dimensions = (400, 100)\n",
    "print(\"\\nModified dimensions:\")\n",
    "for dimension in dimensions:\n",
    " print(dimension)"
   ]
  },
  {
   "cell_type": "code",
   "execution_count": 25,
   "id": "aa4395af",
   "metadata": {},
   "outputs": [
    {
     "name": "stdout",
     "output_type": "stream",
     "text": [
      "The restaurant offers the following foods: \n",
      "Fish\n",
      "Chicken\n",
      "Bread\n",
      "Salad\n",
      "French Fries\n"
     ]
    }
   ],
   "source": [
    "#4.13\n",
    "#Buffet: A buffet-style restaurant offers only five basic foods. Think of five simple foods, and store them in a tuple.\n",
    "#• Use a for loop to print each food the restaurant offers.\n",
    "#• Try to modify one of the items, and make sure that Python rejects the change.\n",
    "#• The restaurant changes its menu, replacing two of the items with different foods. Add a block of code that rewrites the tuple, and then use a for loop to print each of the items on the revised menu.\n",
    "\n",
    "foods=(\"Fish\",\"Chicken\",\"Bread\",\"Salad\",\"French Fries\")\n",
    "print(\"The restaurant offers the following foods: \")\n",
    "    \n",
    "for food in foods:\n",
    "    print(food.title())"
   ]
  },
  {
   "cell_type": "code",
   "execution_count": 22,
   "id": "4811d8b5",
   "metadata": {},
   "outputs": [
    {
     "ename": "TypeError",
     "evalue": "'tuple' object does not support item assignment",
     "output_type": "error",
     "traceback": [
      "\u001b[1;31m---------------------------------------------------------------------------\u001b[0m",
      "\u001b[1;31mTypeError\u001b[0m                                 Traceback (most recent call last)",
      "Input \u001b[1;32mIn [22]\u001b[0m, in \u001b[0;36m<cell line: 1>\u001b[1;34m()\u001b[0m\n\u001b[1;32m----> 1\u001b[0m foods[\u001b[38;5;241m0\u001b[39m]\u001b[38;5;241m=\u001b[39m\u001b[38;5;124m\"\u001b[39m\u001b[38;5;124mmutton\u001b[39m\u001b[38;5;124m\"\u001b[39m\n\u001b[0;32m      2\u001b[0m foods\n",
      "\u001b[1;31mTypeError\u001b[0m: 'tuple' object does not support item assignment"
     ]
    }
   ],
   "source": [
    "foods[0]=\"mutton\"\n",
    "foods"
   ]
  },
  {
   "cell_type": "code",
   "execution_count": 26,
   "id": "0a69565b",
   "metadata": {},
   "outputs": [
    {
     "name": "stdout",
     "output_type": "stream",
     "text": [
      "The restaurant offers the following foods: \n",
      "Fish\n",
      "Chicken\n",
      "Bread\n",
      "Salad\n",
      "French Fries\n",
      "\n",
      "The restaurant now offers the following foods: \n",
      "Fish\n",
      "Chicken\n",
      "Beaf\n",
      "Salad\n",
      "Mutton\n"
     ]
    }
   ],
   "source": [
    "print(\"The restaurant offers the following foods: \")\n",
    "    \n",
    "for food in foods:\n",
    "    print(food.title())\n",
    "    \n",
    "foods=(\"Fish\",\"Chicken\",\"Beaf\",\"Salad\",\"Mutton\")\n",
    "print(\"\\nThe restaurant now offers the following foods: \")\n",
    "for food in foods:\n",
    "    print(food.title())\n",
    "    "
   ]
  },
  {
   "cell_type": "code",
   "execution_count": null,
   "id": "5206982e",
   "metadata": {},
   "outputs": [],
   "source": [
    "#                        END OF CHAPTER#04 "
   ]
  }
 ],
 "metadata": {
  "kernelspec": {
   "display_name": "Python 3 (ipykernel)",
   "language": "python",
   "name": "python3"
  },
  "language_info": {
   "codemirror_mode": {
    "name": "ipython",
    "version": 3
   },
   "file_extension": ".py",
   "mimetype": "text/x-python",
   "name": "python",
   "nbconvert_exporter": "python",
   "pygments_lexer": "ipython3",
   "version": "3.9.12"
  }
 },
 "nbformat": 4,
 "nbformat_minor": 5
}
